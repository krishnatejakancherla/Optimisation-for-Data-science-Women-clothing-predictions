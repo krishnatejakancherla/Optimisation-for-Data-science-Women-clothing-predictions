{
 "cells": [
  {
   "cell_type": "code",
   "execution_count": 1,
   "metadata": {},
   "outputs": [],
   "source": [
    "# -*- coding: utf-8 -*-\n",
    "\"\"\"\n",
    "Created on Wed Nov 27 01:17:49 2019\n",
    "\n",
    "@author: Krishna Teja KANCHERLA\n",
    "\n",
    "                                      **** OPTIMISATION FOR DATA SCIENCE for Women's E-Commerce Clothing Reviews****\n",
    "                                      \n",
    "Dataset available in : https://www.kaggle.com/nicapotato/womens-ecommerce-clothing-reviews\n",
    "\n",
    "\"\"\"\n",
    "\n",
    "#Load required libraries\n",
    "import numpy as np\n",
    "import pandas as pd\n",
    "import seaborn as sns\n",
    "import matplotlib.pyplot as plt\n",
    "from sklearn.ensemble import RandomForestClassifier\n",
    "from sklearn.svm import SVC\n",
    "from sklearn.linear_model import SGDClassifier\n",
    "from sklearn.metrics import confusion_matrix, classification_report\n",
    "from sklearn.preprocessing import StandardScaler, LabelEncoder\n",
    "from sklearn.model_selection import train_test_split, GridSearchCV, cross_val_score\n",
    "%matplotlib inline\n",
    "import math"
   ]
  },
  {
   "cell_type": "code",
   "execution_count": 2,
   "metadata": {},
   "outputs": [],
   "source": [
    "df = pd.read_csv('Final_datasheet.csv')"
   ]
  },
  {
   "cell_type": "code",
   "execution_count": 3,
   "metadata": {
    "scrolled": true
   },
   "outputs": [
    {
     "data": {
      "text/html": [
       "<div>\n",
       "<style scoped>\n",
       "    .dataframe tbody tr th:only-of-type {\n",
       "        vertical-align: middle;\n",
       "    }\n",
       "\n",
       "    .dataframe tbody tr th {\n",
       "        vertical-align: top;\n",
       "    }\n",
       "\n",
       "    .dataframe thead th {\n",
       "        text-align: right;\n",
       "    }\n",
       "</style>\n",
       "<table border=\"1\" class=\"dataframe\">\n",
       "  <thead>\n",
       "    <tr style=\"text-align: right;\">\n",
       "      <th></th>\n",
       "      <th>Unnamed: 0</th>\n",
       "      <th>Clothing ID</th>\n",
       "      <th>Age</th>\n",
       "      <th>Title</th>\n",
       "      <th>Review Text</th>\n",
       "      <th>Rating</th>\n",
       "      <th>Recommended IND</th>\n",
       "      <th>Positive Feedback Count</th>\n",
       "      <th>Division Name</th>\n",
       "      <th>Department Name</th>\n",
       "      <th>Class Name</th>\n",
       "    </tr>\n",
       "  </thead>\n",
       "  <tbody>\n",
       "    <tr>\n",
       "      <th>0</th>\n",
       "      <td>0</td>\n",
       "      <td>767</td>\n",
       "      <td>33</td>\n",
       "      <td>NaN</td>\n",
       "      <td>Absolutely wonderful - silky and sexy and comf...</td>\n",
       "      <td>4</td>\n",
       "      <td>1</td>\n",
       "      <td>0</td>\n",
       "      <td>Initmates</td>\n",
       "      <td>Intimate</td>\n",
       "      <td>Intimates</td>\n",
       "    </tr>\n",
       "    <tr>\n",
       "      <th>1</th>\n",
       "      <td>1</td>\n",
       "      <td>1080</td>\n",
       "      <td>34</td>\n",
       "      <td>NaN</td>\n",
       "      <td>Love this dress!  it's sooo pretty.  i happene...</td>\n",
       "      <td>5</td>\n",
       "      <td>1</td>\n",
       "      <td>4</td>\n",
       "      <td>General</td>\n",
       "      <td>Dresses</td>\n",
       "      <td>Dresses</td>\n",
       "    </tr>\n",
       "    <tr>\n",
       "      <th>2</th>\n",
       "      <td>2</td>\n",
       "      <td>1077</td>\n",
       "      <td>60</td>\n",
       "      <td>Some major design flaws</td>\n",
       "      <td>I had such high hopes for this dress and reall...</td>\n",
       "      <td>3</td>\n",
       "      <td>0</td>\n",
       "      <td>0</td>\n",
       "      <td>General</td>\n",
       "      <td>Dresses</td>\n",
       "      <td>Dresses</td>\n",
       "    </tr>\n",
       "    <tr>\n",
       "      <th>3</th>\n",
       "      <td>3</td>\n",
       "      <td>1049</td>\n",
       "      <td>50</td>\n",
       "      <td>My favorite buy!</td>\n",
       "      <td>I love, love, love this jumpsuit. it's fun, fl...</td>\n",
       "      <td>5</td>\n",
       "      <td>1</td>\n",
       "      <td>0</td>\n",
       "      <td>General Petite</td>\n",
       "      <td>Bottoms</td>\n",
       "      <td>Pants</td>\n",
       "    </tr>\n",
       "    <tr>\n",
       "      <th>4</th>\n",
       "      <td>4</td>\n",
       "      <td>847</td>\n",
       "      <td>47</td>\n",
       "      <td>Flattering shirt</td>\n",
       "      <td>This shirt is very flattering to all due to th...</td>\n",
       "      <td>5</td>\n",
       "      <td>1</td>\n",
       "      <td>6</td>\n",
       "      <td>General</td>\n",
       "      <td>Tops</td>\n",
       "      <td>Blouses</td>\n",
       "    </tr>\n",
       "    <tr>\n",
       "      <th>5</th>\n",
       "      <td>5</td>\n",
       "      <td>1080</td>\n",
       "      <td>49</td>\n",
       "      <td>Not for the very petite</td>\n",
       "      <td>I love tracy reese dresses, but this one is no...</td>\n",
       "      <td>2</td>\n",
       "      <td>0</td>\n",
       "      <td>4</td>\n",
       "      <td>General</td>\n",
       "      <td>Dresses</td>\n",
       "      <td>Dresses</td>\n",
       "    </tr>\n",
       "    <tr>\n",
       "      <th>6</th>\n",
       "      <td>6</td>\n",
       "      <td>858</td>\n",
       "      <td>39</td>\n",
       "      <td>Cagrcoal shimmer fun</td>\n",
       "      <td>I aded this in my basket at hte last mintue to...</td>\n",
       "      <td>5</td>\n",
       "      <td>1</td>\n",
       "      <td>1</td>\n",
       "      <td>General Petite</td>\n",
       "      <td>Tops</td>\n",
       "      <td>Knits</td>\n",
       "    </tr>\n",
       "    <tr>\n",
       "      <th>7</th>\n",
       "      <td>7</td>\n",
       "      <td>858</td>\n",
       "      <td>39</td>\n",
       "      <td>Shimmer, surprisingly goes with lots</td>\n",
       "      <td>I ordered this in carbon for store pick up, an...</td>\n",
       "      <td>4</td>\n",
       "      <td>1</td>\n",
       "      <td>4</td>\n",
       "      <td>General Petite</td>\n",
       "      <td>Tops</td>\n",
       "      <td>Knits</td>\n",
       "    </tr>\n",
       "    <tr>\n",
       "      <th>8</th>\n",
       "      <td>8</td>\n",
       "      <td>1077</td>\n",
       "      <td>24</td>\n",
       "      <td>Flattering</td>\n",
       "      <td>I love this dress. i usually get an xs but it ...</td>\n",
       "      <td>5</td>\n",
       "      <td>1</td>\n",
       "      <td>0</td>\n",
       "      <td>General</td>\n",
       "      <td>Dresses</td>\n",
       "      <td>Dresses</td>\n",
       "    </tr>\n",
       "    <tr>\n",
       "      <th>9</th>\n",
       "      <td>9</td>\n",
       "      <td>1077</td>\n",
       "      <td>34</td>\n",
       "      <td>Such a fun dress!</td>\n",
       "      <td>I'm 5\"5' and 125 lbs. i ordered the s petite t...</td>\n",
       "      <td>5</td>\n",
       "      <td>1</td>\n",
       "      <td>0</td>\n",
       "      <td>General</td>\n",
       "      <td>Dresses</td>\n",
       "      <td>Dresses</td>\n",
       "    </tr>\n",
       "  </tbody>\n",
       "</table>\n",
       "</div>"
      ],
      "text/plain": [
       "   Unnamed: 0  Clothing ID  Age                                 Title  \\\n",
       "0           0          767   33                                   NaN   \n",
       "1           1         1080   34                                   NaN   \n",
       "2           2         1077   60               Some major design flaws   \n",
       "3           3         1049   50                      My favorite buy!   \n",
       "4           4          847   47                      Flattering shirt   \n",
       "5           5         1080   49               Not for the very petite   \n",
       "6           6          858   39                  Cagrcoal shimmer fun   \n",
       "7           7          858   39  Shimmer, surprisingly goes with lots   \n",
       "8           8         1077   24                            Flattering   \n",
       "9           9         1077   34                     Such a fun dress!   \n",
       "\n",
       "                                         Review Text  Rating  Recommended IND  \\\n",
       "0  Absolutely wonderful - silky and sexy and comf...       4                1   \n",
       "1  Love this dress!  it's sooo pretty.  i happene...       5                1   \n",
       "2  I had such high hopes for this dress and reall...       3                0   \n",
       "3  I love, love, love this jumpsuit. it's fun, fl...       5                1   \n",
       "4  This shirt is very flattering to all due to th...       5                1   \n",
       "5  I love tracy reese dresses, but this one is no...       2                0   \n",
       "6  I aded this in my basket at hte last mintue to...       5                1   \n",
       "7  I ordered this in carbon for store pick up, an...       4                1   \n",
       "8  I love this dress. i usually get an xs but it ...       5                1   \n",
       "9  I'm 5\"5' and 125 lbs. i ordered the s petite t...       5                1   \n",
       "\n",
       "   Positive Feedback Count   Division Name Department Name Class Name  \n",
       "0                        0       Initmates        Intimate  Intimates  \n",
       "1                        4         General         Dresses    Dresses  \n",
       "2                        0         General         Dresses    Dresses  \n",
       "3                        0  General Petite         Bottoms      Pants  \n",
       "4                        6         General            Tops    Blouses  \n",
       "5                        4         General         Dresses    Dresses  \n",
       "6                        1  General Petite            Tops      Knits  \n",
       "7                        4  General Petite            Tops      Knits  \n",
       "8                        0         General         Dresses    Dresses  \n",
       "9                        0         General         Dresses    Dresses  "
      ]
     },
     "execution_count": 3,
     "metadata": {},
     "output_type": "execute_result"
    }
   ],
   "source": [
    "df.head(10)"
   ]
  },
  {
   "cell_type": "code",
   "execution_count": 4,
   "metadata": {},
   "outputs": [
    {
     "data": {
      "text/html": [
       "<div>\n",
       "<style scoped>\n",
       "    .dataframe tbody tr th:only-of-type {\n",
       "        vertical-align: middle;\n",
       "    }\n",
       "\n",
       "    .dataframe tbody tr th {\n",
       "        vertical-align: top;\n",
       "    }\n",
       "\n",
       "    .dataframe thead th {\n",
       "        text-align: right;\n",
       "    }\n",
       "</style>\n",
       "<table border=\"1\" class=\"dataframe\">\n",
       "  <thead>\n",
       "    <tr style=\"text-align: right;\">\n",
       "      <th></th>\n",
       "      <th>Clothing ID</th>\n",
       "      <th>Age</th>\n",
       "      <th>Rating</th>\n",
       "      <th>Recommended IND</th>\n",
       "      <th>Positive Feedback Count</th>\n",
       "    </tr>\n",
       "  </thead>\n",
       "  <tbody>\n",
       "    <tr>\n",
       "      <th>0</th>\n",
       "      <td>767</td>\n",
       "      <td>33</td>\n",
       "      <td>4</td>\n",
       "      <td>1</td>\n",
       "      <td>0</td>\n",
       "    </tr>\n",
       "    <tr>\n",
       "      <th>1</th>\n",
       "      <td>1080</td>\n",
       "      <td>34</td>\n",
       "      <td>5</td>\n",
       "      <td>1</td>\n",
       "      <td>4</td>\n",
       "    </tr>\n",
       "    <tr>\n",
       "      <th>2</th>\n",
       "      <td>1077</td>\n",
       "      <td>60</td>\n",
       "      <td>3</td>\n",
       "      <td>0</td>\n",
       "      <td>0</td>\n",
       "    </tr>\n",
       "    <tr>\n",
       "      <th>3</th>\n",
       "      <td>1049</td>\n",
       "      <td>50</td>\n",
       "      <td>5</td>\n",
       "      <td>1</td>\n",
       "      <td>0</td>\n",
       "    </tr>\n",
       "    <tr>\n",
       "      <th>4</th>\n",
       "      <td>847</td>\n",
       "      <td>47</td>\n",
       "      <td>5</td>\n",
       "      <td>1</td>\n",
       "      <td>6</td>\n",
       "    </tr>\n",
       "    <tr>\n",
       "      <th>5</th>\n",
       "      <td>1080</td>\n",
       "      <td>49</td>\n",
       "      <td>2</td>\n",
       "      <td>0</td>\n",
       "      <td>4</td>\n",
       "    </tr>\n",
       "    <tr>\n",
       "      <th>6</th>\n",
       "      <td>858</td>\n",
       "      <td>39</td>\n",
       "      <td>5</td>\n",
       "      <td>1</td>\n",
       "      <td>1</td>\n",
       "    </tr>\n",
       "    <tr>\n",
       "      <th>7</th>\n",
       "      <td>858</td>\n",
       "      <td>39</td>\n",
       "      <td>4</td>\n",
       "      <td>1</td>\n",
       "      <td>4</td>\n",
       "    </tr>\n",
       "    <tr>\n",
       "      <th>8</th>\n",
       "      <td>1077</td>\n",
       "      <td>24</td>\n",
       "      <td>5</td>\n",
       "      <td>1</td>\n",
       "      <td>0</td>\n",
       "    </tr>\n",
       "    <tr>\n",
       "      <th>9</th>\n",
       "      <td>1077</td>\n",
       "      <td>34</td>\n",
       "      <td>5</td>\n",
       "      <td>1</td>\n",
       "      <td>0</td>\n",
       "    </tr>\n",
       "  </tbody>\n",
       "</table>\n",
       "</div>"
      ],
      "text/plain": [
       "   Clothing ID  Age  Rating  Recommended IND  Positive Feedback Count\n",
       "0          767   33       4                1                        0\n",
       "1         1080   34       5                1                        4\n",
       "2         1077   60       3                0                        0\n",
       "3         1049   50       5                1                        0\n",
       "4          847   47       5                1                        6\n",
       "5         1080   49       2                0                        4\n",
       "6          858   39       5                1                        1\n",
       "7          858   39       4                1                        4\n",
       "8         1077   24       5                1                        0\n",
       "9         1077   34       5                1                        0"
      ]
     },
     "execution_count": 4,
     "metadata": {},
     "output_type": "execute_result"
    }
   ],
   "source": [
    "X = (df[['Clothing ID','Age','Rating','Recommended IND','Positive Feedback Count']])\n",
    "X[0:10]\n"
   ]
  },
  {
   "cell_type": "code",
   "execution_count": 5,
   "metadata": {},
   "outputs": [
    {
     "data": {
      "text/plain": [
       "array([[1],\n",
       "       [1],\n",
       "       [0],\n",
       "       [1],\n",
       "       [1],\n",
       "       [0],\n",
       "       [1],\n",
       "       [1],\n",
       "       [1],\n",
       "       [1]], dtype=int64)"
      ]
     },
     "execution_count": 5,
     "metadata": {},
     "output_type": "execute_result"
    }
   ],
   "source": [
    "Y = np.array(df[['Recommended IND']])\n",
    "Y[0:10]"
   ]
  },
  {
   "cell_type": "markdown",
   "metadata": {},
   "source": [
    "####  Encode the categorical variables"
   ]
  },
  {
   "cell_type": "code",
   "execution_count": 6,
   "metadata": {},
   "outputs": [
    {
     "data": {
      "text/html": [
       "<div>\n",
       "<style scoped>\n",
       "    .dataframe tbody tr th:only-of-type {\n",
       "        vertical-align: middle;\n",
       "    }\n",
       "\n",
       "    .dataframe tbody tr th {\n",
       "        vertical-align: top;\n",
       "    }\n",
       "\n",
       "    .dataframe thead th {\n",
       "        text-align: right;\n",
       "    }\n",
       "</style>\n",
       "<table border=\"1\" class=\"dataframe\">\n",
       "  <thead>\n",
       "    <tr style=\"text-align: right;\">\n",
       "      <th></th>\n",
       "      <th>Clothing ID</th>\n",
       "      <th>Age</th>\n",
       "      <th>Rating</th>\n",
       "      <th>Recommended IND</th>\n",
       "      <th>Positive Feedback Count</th>\n",
       "    </tr>\n",
       "  </thead>\n",
       "  <tbody>\n",
       "    <tr>\n",
       "      <th>0</th>\n",
       "      <td>767</td>\n",
       "      <td>33</td>\n",
       "      <td>4</td>\n",
       "      <td>1</td>\n",
       "      <td>0</td>\n",
       "    </tr>\n",
       "    <tr>\n",
       "      <th>1</th>\n",
       "      <td>1080</td>\n",
       "      <td>34</td>\n",
       "      <td>5</td>\n",
       "      <td>1</td>\n",
       "      <td>4</td>\n",
       "    </tr>\n",
       "    <tr>\n",
       "      <th>2</th>\n",
       "      <td>1077</td>\n",
       "      <td>60</td>\n",
       "      <td>3</td>\n",
       "      <td>0</td>\n",
       "      <td>0</td>\n",
       "    </tr>\n",
       "    <tr>\n",
       "      <th>3</th>\n",
       "      <td>1049</td>\n",
       "      <td>50</td>\n",
       "      <td>5</td>\n",
       "      <td>1</td>\n",
       "      <td>0</td>\n",
       "    </tr>\n",
       "    <tr>\n",
       "      <th>4</th>\n",
       "      <td>847</td>\n",
       "      <td>47</td>\n",
       "      <td>5</td>\n",
       "      <td>1</td>\n",
       "      <td>6</td>\n",
       "    </tr>\n",
       "    <tr>\n",
       "      <th>5</th>\n",
       "      <td>1080</td>\n",
       "      <td>49</td>\n",
       "      <td>2</td>\n",
       "      <td>0</td>\n",
       "      <td>4</td>\n",
       "    </tr>\n",
       "    <tr>\n",
       "      <th>6</th>\n",
       "      <td>858</td>\n",
       "      <td>39</td>\n",
       "      <td>5</td>\n",
       "      <td>1</td>\n",
       "      <td>1</td>\n",
       "    </tr>\n",
       "    <tr>\n",
       "      <th>7</th>\n",
       "      <td>858</td>\n",
       "      <td>39</td>\n",
       "      <td>4</td>\n",
       "      <td>1</td>\n",
       "      <td>4</td>\n",
       "    </tr>\n",
       "    <tr>\n",
       "      <th>8</th>\n",
       "      <td>1077</td>\n",
       "      <td>24</td>\n",
       "      <td>5</td>\n",
       "      <td>1</td>\n",
       "      <td>0</td>\n",
       "    </tr>\n",
       "    <tr>\n",
       "      <th>9</th>\n",
       "      <td>1077</td>\n",
       "      <td>34</td>\n",
       "      <td>5</td>\n",
       "      <td>1</td>\n",
       "      <td>0</td>\n",
       "    </tr>\n",
       "  </tbody>\n",
       "</table>\n",
       "</div>"
      ],
      "text/plain": [
       "   Clothing ID  Age  Rating  Recommended IND  Positive Feedback Count\n",
       "0          767   33       4                1                        0\n",
       "1         1080   34       5                1                        4\n",
       "2         1077   60       3                0                        0\n",
       "3         1049   50       5                1                        0\n",
       "4          847   47       5                1                        6\n",
       "5         1080   49       2                0                        4\n",
       "6          858   39       5                1                        1\n",
       "7          858   39       4                1                        4\n",
       "8         1077   24       5                1                        0\n",
       "9         1077   34       5                1                        0"
      ]
     },
     "execution_count": 6,
     "metadata": {},
     "output_type": "execute_result"
    }
   ],
   "source": [
    "cols = ['Clothing ID','Age','Rating','Recommended IND','Positive Feedback Count']\n",
    "\n",
    "X_new= df[cols]\n",
    "X_new.head(10)"
   ]
  },
  {
   "cell_type": "markdown",
   "metadata": {},
   "source": [
    "##### Normalise the dimension"
   ]
  },
  {
   "cell_type": "code",
   "execution_count": 7,
   "metadata": {},
   "outputs": [
    {
     "data": {
      "text/plain": [
       "['Clothing ID', 'Age', 'Rating', 'Recommended IND', 'Positive Feedback Count']"
      ]
     },
     "execution_count": 7,
     "metadata": {},
     "output_type": "execute_result"
    }
   ],
   "source": [
    "X_new = X_new[cols].apply( lambda rec:(rec - rec.mean())/rec.std(), axis =0)\n",
    "X_new['Recommended IND'] = df['Recommended IND']\n",
    "X_new.head(10)\n",
    "list(X_new)"
   ]
  },
  {
   "cell_type": "code",
   "execution_count": 8,
   "metadata": {},
   "outputs": [
    {
     "data": {
      "text/plain": [
       "array([[-0.74333235, -0.83053118, -0.17660023,  1.        , -0.44472934],\n",
       "       [ 0.79627203, -0.74909493,  0.72427574,  1.        ,  0.25675411],\n",
       "       [ 0.78151544,  1.36824761, -1.0774762 ,  0.        , -0.44472934],\n",
       "       [ 0.64378725,  0.5538851 ,  0.72427574,  1.        , -0.44472934],\n",
       "       [-0.34982325,  0.30957634,  0.72427574,  1.        ,  0.60749584],\n",
       "       [ 0.79627203,  0.47244884, -1.97835217,  0.        ,  0.25675411],\n",
       "       [-0.29571574, -0.34191367,  0.72427574,  1.        , -0.26935848],\n",
       "       [-0.29571574, -0.34191367, -0.17660023,  1.        ,  0.25675411],\n",
       "       [ 0.78151544, -1.56345744,  0.72427574,  1.        , -0.44472934]])"
      ]
     },
     "execution_count": 8,
     "metadata": {},
     "output_type": "execute_result"
    }
   ],
   "source": [
    "X_new = np.array(X_new)\n",
    "X_new[0:9]"
   ]
  },
  {
   "cell_type": "markdown",
   "metadata": {},
   "source": [
    "#### Randomly Initialise values of beta coefficient values"
   ]
  },
  {
   "cell_type": "code",
   "execution_count": 9,
   "metadata": {},
   "outputs": [],
   "source": [
    "import random"
   ]
  },
  {
   "cell_type": "code",
   "execution_count": 10,
   "metadata": {},
   "outputs": [],
   "source": [
    "def init_betas(dim):\n",
    "    b = random.random()\n",
    "    w = np.random.rand(dim)\n",
    "    return b,w "
   ]
  },
  {
   "cell_type": "code",
   "execution_count": 11,
   "metadata": {},
   "outputs": [
    {
     "name": "stdout",
     "output_type": "stream",
     "text": [
      "0.3699213582195595 [0.9466058  0.24424541 0.38395574 0.85383271 0.91673921]\n"
     ]
    }
   ],
   "source": [
    "b,w = init_betas(X_new.shape[1])\n",
    "print(b,w)"
   ]
  },
  {
   "cell_type": "markdown",
   "metadata": {},
   "source": [
    "##### Define a sigmoid function to predict Y"
   ]
  },
  {
   "cell_type": "code",
   "execution_count": 12,
   "metadata": {},
   "outputs": [],
   "source": [
    "def sigmoid(b, w ,X_new):\n",
    "    Z = b + np.matmul(X_new,w)\n",
    "    return (1.0 / (1 + np.exp(-Z)))  "
   ]
  },
  {
   "cell_type": "code",
   "execution_count": 13,
   "metadata": {},
   "outputs": [
    {
     "data": {
      "text/plain": [
       "array([0.46051996, 0.90953852, 0.65078524, 0.86281142, 0.85854131])"
      ]
     },
     "execution_count": 13,
     "metadata": {},
     "output_type": "execute_result"
    }
   ],
   "source": [
    "y_det = sigmoid(b,w,X_new)\n",
    "y_det[0:5]"
   ]
  },
  {
   "cell_type": "markdown",
   "metadata": {},
   "source": [
    "#### Define a function for calculating binary cross entropy loss function"
   ]
  },
  {
   "cell_type": "code",
   "execution_count": 14,
   "metadata": {},
   "outputs": [],
   "source": [
    "def cost_fn( y, y_det):\n",
    "        return - np.sum(np.dot(y.T,np.log(1-y_det)+ np.dot((1-y).T,np.log(1-y_det)))) / ( len(y))"
   ]
  },
  {
   "cell_type": "code",
   "execution_count": 15,
   "metadata": {},
   "outputs": [
    {
     "data": {
      "text/plain": [
       "(23486,)"
      ]
     },
     "execution_count": 15,
     "metadata": {},
     "output_type": "execute_result"
    }
   ],
   "source": [
    "# Reshape the Y\n",
    "Y=Y.reshape(len(Y), )\n",
    "current_cost= cost_fn(Y,y_det)\n",
    "Y.shape"
   ]
  },
  {
   "cell_type": "markdown",
   "metadata": {},
   "source": [
    "##### Define a function for updating beta values.\n"
   ]
  },
  {
   "cell_type": "code",
   "execution_count": 16,
   "metadata": {},
   "outputs": [],
   "source": [
    "def beta_update (b0, w0 , y , y_det, X_new, alpha):\n",
    "    db = np.sum( y_det - y)/ len(y)\n",
    "    b0 = b0 - alpha * db\n",
    "    dw = np.dot((y_det - y), X_new)/ len(y)\n",
    "    w0 = w0 - alpha * dw\n",
    "   \n",
    "   \n",
    "    return b0,w0\n",
    "    "
   ]
  },
  {
   "cell_type": "code",
   "execution_count": 17,
   "metadata": {},
   "outputs": [
    {
     "data": {
      "text/plain": [
       "numpy.ndarray"
      ]
     },
     "execution_count": 17,
     "metadata": {},
     "output_type": "execute_result"
    }
   ],
   "source": [
    "alpha = 0.1\n",
    "type(y_det)"
   ]
  },
  {
   "cell_type": "code",
   "execution_count": 18,
   "metadata": {},
   "outputs": [
    {
     "data": {
      "text/plain": [
       "array([0.9293563 , 0.2403935 , 0.40348085, 0.8745679 , 0.90744779])"
      ]
     },
     "execution_count": 18,
     "metadata": {},
     "output_type": "execute_result"
    }
   ],
   "source": [
    "b,w = beta_update (b,w, Y, y_det,X_new, alpha)\n",
    "w"
   ]
  },
  {
   "cell_type": "markdown",
   "metadata": {},
   "source": [
    "#### Code for Gradient Descent Iterations"
   ]
  },
  {
   "cell_type": "code",
   "execution_count": 19,
   "metadata": {},
   "outputs": [
    {
     "name": "stdout",
     "output_type": "stream",
     "text": [
      "initial guess of b and w:  0.06527141338033282 [0.42557887 0.01094079 0.26167519 0.92415    0.01316876]\n",
      "Iteration:  0 Cost:  1889.9648964396356\n",
      "Iteration:  10 Cost:  1194.859986607945\n",
      "Iteration:  20 Cost:  952.3380189102983\n",
      "Iteration:  30 Cost:  822.6388392746846\n",
      "Iteration:  40 Cost:  739.1729959641066\n",
      "Iteration:  50 Cost:  679.557189413544\n",
      "Iteration:  60 Cost:  634.0296223551223\n",
      "Iteration:  70 Cost:  597.6092753795831\n",
      "Iteration:  80 Cost:  567.4696599795237\n",
      "Iteration:  90 Cost:  541.8781851082595\n",
      "Iteration:  100 Cost:  519.708408726585\n",
      "Iteration:  110 Cost:  500.1931097720542\n",
      "Iteration:  120 Cost:  482.7896303080337\n",
      "Iteration:  130 Cost:  467.10194817496586\n",
      "Iteration:  140 Cost:  452.8333309464904\n",
      "Iteration:  150 Cost:  439.7563757761216\n",
      "Iteration:  160 Cost:  427.69338419499786\n",
      "Iteration:  170 Cost:  416.50311837884897\n",
      "Iteration:  180 Cost:  406.0716291143556\n",
      "Iteration:  190 Cost:  396.3057571567466\n",
      "Iteration:  200 Cost:  387.1284347202318\n",
      "Iteration:  210 Cost:  378.4752265655404\n",
      "Iteration:  220 Cost:  370.29174198622786\n",
      "Iteration:  230 Cost:  362.5316698116493\n",
      "Iteration:  240 Cost:  355.15526644895476\n",
      "Iteration:  250 Cost:  348.12817830192677\n",
      "Iteration:  260 Cost:  341.42051436567306\n",
      "Iteration:  270 Cost:  335.0061083505325\n",
      "Iteration:  280 Cost:  328.8619260503153\n",
      "Iteration:  290 Cost:  322.9675852057064\n",
      "Iteration:  300 Cost:  317.30496335920145\n",
      "Iteration:  310 Cost:  311.8578751671283\n",
      "Iteration:  320 Cost:  306.6118050068999\n",
      "Iteration:  330 Cost:  301.5536839561359\n",
      "Iteration:  340 Cost:  296.67170264358714\n",
      "Iteration:  350 Cost:  291.9551533026336\n",
      "Iteration:  360 Cost:  287.39429575389073\n",
      "Iteration:  370 Cost:  282.98024311658094\n",
      "Iteration:  380 Cost:  278.70486388003286\n",
      "Iteration:  390 Cost:  274.56069761611633\n",
      "Iteration:  400 Cost:  270.54088212418753\n",
      "Iteration:  410 Cost:  266.63909020451774\n",
      "Iteration:  420 Cost:  262.8494745784233\n",
      "Iteration:  430 Cost:  259.16661973164014\n",
      "Iteration:  440 Cost:  255.58549966577746\n",
      "Iteration:  450 Cost:  252.1014407115407\n",
      "Iteration:  460 Cost:  248.71008869502162\n",
      "Iteration:  470 Cost:  245.4073798610572\n",
      "Iteration:  480 Cost:  242.1895150503907\n",
      "Iteration:  490 Cost:  239.05293670402625\n",
      "Final estimates of b and q are:  0.0006483384739278603 [-0.05653024  0.0812068   2.29971801  5.30397158 -0.06789829]\n"
     ]
    }
   ],
   "source": [
    "num_iterations = 500\n",
    "alpha = 0.5\n",
    "\n",
    "all_costs = []\n",
    "b,w = init_betas(X_new.shape[1])\n",
    "print(\"initial guess of b and w: \" , b ,w)\n",
    "\n",
    "for each_iter in range (num_iterations ):\n",
    "    y_det = sigmoid(b, w , X_new)\n",
    "    current_cost = cost_fn (Y, y_det)\n",
    "    prev_b = b\n",
    "    prev_w = w\n",
    "    b, w = beta_update (prev_b, prev_w, Y, y_det, X_new, alpha)\n",
    "    all_costs.append(current_cost)\n",
    "    if each_iter % 10 == 0:\n",
    "        print('Iteration: ', each_iter, 'Cost: ', current_cost)\n",
    "        each_iter += 1\n",
    "    \n",
    "print(\"Final estimates of b and q are: \", b,w)"
   ]
  },
  {
   "cell_type": "code",
   "execution_count": 20,
   "metadata": {},
   "outputs": [
    {
     "name": "stderr",
     "output_type": "stream",
     "text": [
      "C:\\Users\\Krishna\\Anaconda3\\lib\\site-packages\\sklearn\\linear_model\\logistic.py:432: FutureWarning: Default solver will be changed to 'lbfgs' in 0.22. Specify a solver to silence this warning.\n",
      "  FutureWarning)\n"
     ]
    }
   ],
   "source": [
    "from sklearn.linear_model import LogisticRegression\n",
    "\n",
    "lreg = LogisticRegression()\n",
    "lmodel = lreg.fit(X_new, Y)"
   ]
  },
  {
   "cell_type": "code",
   "execution_count": 21,
   "metadata": {},
   "outputs": [
    {
     "data": {
      "text/plain": [
       "array([-3.56034604])"
      ]
     },
     "execution_count": 21,
     "metadata": {},
     "output_type": "execute_result"
    }
   ],
   "source": [
    "lmodel.intercept_"
   ]
  },
  {
   "cell_type": "code",
   "execution_count": 22,
   "metadata": {},
   "outputs": [
    {
     "data": {
      "text/plain": [
       "array([[-0.04637959,  0.03492599,  1.70449578, 11.1739654 , -0.05720112]])"
      ]
     },
     "execution_count": 22,
     "metadata": {},
     "output_type": "execute_result"
    }
   ],
   "source": [
    "lmodel.coef_"
   ]
  },
  {
   "cell_type": "code",
   "execution_count": 23,
   "metadata": {},
   "outputs": [],
   "source": [
    "import matplotlib.pyplot as plt\n",
    "import seaborn as sn\n",
    "%matplotlib inline"
   ]
  },
  {
   "cell_type": "code",
   "execution_count": 24,
   "metadata": {},
   "outputs": [
    {
     "data": {
      "text/plain": [
       "<matplotlib.collections.PathCollection at 0x12e6294c470>"
      ]
     },
     "execution_count": 24,
     "metadata": {},
     "output_type": "execute_result"
    },
    {
     "data": {
      "image/png": "[encoded data removed]",
      "text/plain": [
       "<Figure size 432x288 with 1 Axes>"
      ]
     },
     "metadata": {
      "needs_background": "light"
     },
     "output_type": "display_data"
    }
   ],
   "source": [
    "plt.scatter( range(num_iterations), all_costs)\n",
    "#Plot the cost function for different alpha (learning parameters) values"
   ]
  },
  {
   "cell_type": "code",
   "execution_count": 25,
   "metadata": {},
   "outputs": [
    {
     "name": "stdout",
     "output_type": "stream",
     "text": [
      "initial guess of b and w:  0.69229802483718 [0.09354588 0.00678708 0.31873333 0.78472747 0.62324815]\n",
      "Iteration:  0  & Cost:  3007.4213246265845\n",
      "Iteration:  10  & Cost:  2952.203108572935\n",
      "Iteration:  20  & Cost:  2898.8171013249816\n",
      "Iteration:  30  & Cost:  2847.1962349598316\n",
      "Iteration:  40  & Cost:  2797.275199413564\n",
      "Iteration:  50  & Cost:  2748.9905248837895\n",
      "Iteration:  60  & Cost:  2702.280642168653\n",
      "Iteration:  70  & Cost:  2657.0859234672653\n",
      "Iteration:  80  & Cost:  2613.3487060278326\n",
      "Iteration:  90  & Cost:  2571.013300872443\n",
      "Iteration:  100  & Cost:  2530.0259886592985\n",
      "Iteration:  110  & Cost:  2490.335004569464\n",
      "Iteration:  120  & Cost:  2451.8905139316375\n",
      "Iteration:  130  & Cost:  2414.644580128225\n",
      "Iteration:  140  & Cost:  2378.5511261624956\n",
      "Iteration:  150  & Cost:  2343.565891111638\n",
      "Iteration:  160  & Cost:  2309.646382545517\n",
      "Iteration:  170  & Cost:  2276.7518258568157\n",
      "Iteration:  180  & Cost:  2244.843111325157\n",
      "Iteration:  190  & Cost:  2213.8827396260567\n",
      "Iteration:  200  & Cost:  2183.834766394538\n",
      "Iteration:  210  & Cost:  2154.664746362862\n",
      "Iteration:  220  & Cost:  2126.3396775111573\n",
      "Iteration:  230  & Cost:  2098.8279455984366\n",
      "Iteration:  240  & Cost:  2072.099269378562\n",
      "Iteration:  250  & Cost:  2046.1246467506573\n",
      "Iteration:  260  & Cost:  2020.8763020454046\n",
      "Iteration:  270  & Cost:  1996.327634606993\n",
      "Iteration:  280  & Cost:  1972.4531687944998\n",
      "Iteration:  290  & Cost:  1949.2285054955494\n",
      "Iteration:  300  & Cost:  1926.6302752187382\n",
      "Iteration:  310  & Cost:  1904.6360928087913\n",
      "Iteration:  320  & Cost:  1883.2245138095382\n",
      "Iteration:  330  & Cost:  1862.3749924838337\n",
      "Iteration:  340  & Cost:  1842.0678414863467\n",
      "Iteration:  350  & Cost:  1822.2841931741816\n",
      "Iteration:  360  & Cost:  1803.0059625313704\n",
      "Iteration:  370  & Cost:  1784.2158116760736\n",
      "Iteration:  380  & Cost:  1765.8971159135765\n",
      "Iteration:  390  & Cost:  1748.0339312937158\n",
      "Iteration:  400  & Cost:  1730.6109636279689\n",
      "Iteration:  410  & Cost:  1713.6135389189808\n",
      "Iteration:  420  & Cost:  1697.0275751535692\n",
      "Iteration:  430  & Cost:  1680.8395554092292\n",
      "Iteration:  440  & Cost:  1665.0365022236085\n",
      "Iteration:  450  & Cost:  1649.6059531763933\n",
      "Iteration:  460  & Cost:  1634.5359376333122\n",
      "Iteration:  470  & Cost:  1619.814954602624\n",
      "Iteration:  480  & Cost:  1605.431951655256\n",
      "Iteration:  490  & Cost:  1591.3763048608587\n",
      "Iteration:  500  & Cost:  1577.6377996932238\n",
      "Iteration:  510  & Cost:  1564.2066128598403\n",
      "Iteration:  520  & Cost:  1551.073295011796\n",
      "Iteration:  530  & Cost:  1538.2287542916931\n",
      "Iteration:  540  & Cost:  1525.6642406787926\n",
      "Iteration:  550  & Cost:  1513.371331092132\n",
      "Iteration:  560  & Cost:  1501.3419152139506\n",
      "Iteration:  570  & Cost:  1489.56818199729\n",
      "Iteration:  580  & Cost:  1478.042606823213\n",
      "Iteration:  590  & Cost:  1466.7579392746095\n",
      "Iteration:  600  & Cost:  1455.7071914950445\n",
      "Iteration:  610  & Cost:  1444.8836271026096\n",
      "Iteration:  620  & Cost:  1434.2807506301447\n",
      "Iteration:  630  & Cost:  1423.8922974646175\n",
      "Iteration:  640  & Cost:  1413.7122242597727\n",
      "Iteration:  650  & Cost:  1403.7346997974996\n",
      "Iteration:  660  & Cost:  1393.9540962746066\n",
      "Iteration:  670  & Cost:  1384.364980992911\n",
      "Iteration:  680  & Cost:  1374.9621084317087\n",
      "Iteration:  690  & Cost:  1365.7404126828176\n",
      "Iteration:  700  & Cost:  1356.6950002294432\n",
      "Iteration:  710  & Cost:  1347.8211430511296\n",
      "Iteration:  720  & Cost:  1339.1142720380558\n",
      "Iteration:  730  & Cost:  1330.5699706988316\n",
      "Iteration:  740  & Cost:  1322.1839691468526\n",
      "Iteration:  750  & Cost:  1313.9521383511044\n",
      "Iteration:  760  & Cost:  1305.870484638096\n",
      "Iteration:  770  & Cost:  1297.9351444323843\n",
      "Iteration:  780  & Cost:  1290.142379223829\n",
      "Iteration:  790  & Cost:  1282.488570750443\n",
      "Iteration:  800  & Cost:  1274.9702163863105\n",
      "Iteration:  810  & Cost:  1267.583924724689\n",
      "Iteration:  820  & Cost:  1260.3264113469631\n",
      "Iteration:  830  & Cost:  1253.1944947686889\n",
      "Iteration:  840  & Cost:  1246.1850925544647\n",
      "Iteration:  850  & Cost:  1239.2952175938708\n",
      "Iteration:  860  & Cost:  1232.521974531173\n",
      "Iteration:  870  & Cost:  1225.8625563419116\n",
      "Iteration:  880  & Cost:  1219.3142410499252\n",
      "Iteration:  890  & Cost:  1212.8743885787187\n",
      "Iteration:  900  & Cost:  1206.5404377314517\n",
      "Iteration:  910  & Cost:  1200.3099032941645\n",
      "Iteration:  920  & Cost:  1194.1803732571425\n",
      "Iteration:  930  & Cost:  1188.1495061496432\n",
      "Iteration:  940  & Cost:  1182.215028483427\n",
      "Iteration:  950  & Cost:  1176.3747323008183\n",
      "Iteration:  960  & Cost:  1170.6264728232104\n",
      "Iteration:  970  & Cost:  1164.9681661961422\n",
      "Iteration:  980  & Cost:  1159.3977873272488\n",
      "Iteration:  990  & Cost:  1153.9133678135547\n",
      "Final estimates of b and w are:  0.8805550805839019 [0.00910494 0.0292413  1.27539858 1.61029187 0.21116146]\n"
     ]
    }
   ],
   "source": [
    "# For alpha =0.01\n",
    "num_iterations = 1000\n",
    "alpha = 0.01\n",
    "\n",
    "all_costs = []\n",
    "b,w = init_betas(X_new.shape[1])\n",
    "print(\"initial guess of b and w: \" , b ,w)\n",
    "\n",
    "for each_iter in range (num_iterations ):\n",
    "    y_hat = sigmoid(b, w , X_new)\n",
    "    current_cost = cost_fn (Y, y_hat)\n",
    "    prev_b = b\n",
    "    prev_w = w\n",
    "    b, w = beta_update (prev_b, prev_w, Y, y_hat, X_new, alpha)\n",
    "    all_costs.append(current_cost)\n",
    "    if each_iter % 10 == 0:\n",
    "        print('Iteration: ', each_iter, ' & Cost: ', current_cost)\n",
    "        each_iter += 1\n",
    "    \n",
    "print(\"Final estimates of b and w are: \", b,w)"
   ]
  },
  {
   "cell_type": "code",
   "execution_count": 26,
   "metadata": {},
   "outputs": [
    {
     "name": "stderr",
     "output_type": "stream",
     "text": [
      "C:\\Users\\Krishna\\Anaconda3\\lib\\site-packages\\sklearn\\linear_model\\logistic.py:432: FutureWarning: Default solver will be changed to 'lbfgs' in 0.22. Specify a solver to silence this warning.\n",
      "  FutureWarning)\n"
     ]
    }
   ],
   "source": [
    "linReg = LogisticRegression() #Use sklearn logistic regression API and compare the estimation of beta values.\n",
    "lmodel = linReg.fit(X_new, Y)"
   ]
  },
  {
   "cell_type": "code",
   "execution_count": 27,
   "metadata": {},
   "outputs": [
    {
     "data": {
      "text/plain": [
       "array([-3.56034604])"
      ]
     },
     "execution_count": 27,
     "metadata": {},
     "output_type": "execute_result"
    }
   ],
   "source": [
    "lmodel.intercept_"
   ]
  },
  {
   "cell_type": "code",
   "execution_count": 28,
   "metadata": {},
   "outputs": [
    {
     "data": {
      "text/plain": [
       "array([[-0.04637959,  0.03492599,  1.70449578, 11.1739654 , -0.05720112]])"
      ]
     },
     "execution_count": 28,
     "metadata": {},
     "output_type": "execute_result"
    }
   ],
   "source": [
    "lmodel.coef_"
   ]
  },
  {
   "cell_type": "code",
   "execution_count": 29,
   "metadata": {},
   "outputs": [
    {
     "data": {
      "text/plain": [
       "<matplotlib.collections.PathCollection at 0x12e629e7c88>"
      ]
     },
     "execution_count": 29,
     "metadata": {},
     "output_type": "execute_result"
    },
    {
     "data": {
      "image/png": "[encoded data removed]",
      "text/plain": [
       "<Figure size 432x288 with 1 Axes>"
      ]
     },
     "metadata": {
      "needs_background": "light"
     },
     "output_type": "display_data"
    }
   ],
   "source": [
    "plt.scatter( range(num_iterations), all_costs)"
   ]
  },
  {
   "cell_type": "code",
   "execution_count": 30,
   "metadata": {},
   "outputs": [
    {
     "data": {
      "text/plain": [
       "<matplotlib.axes._subplots.AxesSubplot at 0x12e629e7fd0>"
      ]
     },
     "execution_count": 30,
     "metadata": {},
     "output_type": "execute_result"
    },
    {
     "data": {
      "image/png": "[encoded data removed]",
      "text/plain": [
       "<Figure size 720x432 with 1 Axes>"
      ]
     },
     "metadata": {
      "needs_background": "light"
     },
     "output_type": "display_data"
    }
   ],
   "source": [
    "#Here we see that fixed acidity does not give any specification to classify the quality.\n",
    "df = (df[['Clothing ID','Age','Rating','Recommended IND','Positive Feedback Count']])\n",
    "fig = plt.figure(figsize = (10,6))\n",
    "sns.barplot(x = 'Recommended IND', y = 'Positive Feedback Count', data = df)"
   ]
  },
  {
   "cell_type": "code",
   "execution_count": 31,
   "metadata": {},
   "outputs": [
    {
     "data": {
      "text/plain": [
       "<matplotlib.axes._subplots.AxesSubplot at 0x12e62bde198>"
      ]
     },
     "execution_count": 31,
     "metadata": {},
     "output_type": "execute_result"
    },
    {
     "data": {
      "image/png": "[encoded data removed]",
      "text/plain": [
       "<Figure size 432x288 with 1 Axes>"
      ]
     },
     "metadata": {
      "needs_background": "light"
     },
     "output_type": "display_data"
    }
   ],
   "source": [
    "sns.countplot(df['Recommended IND'])"
   ]
  },
  {
   "cell_type": "code",
   "execution_count": 32,
   "metadata": {},
   "outputs": [],
   "source": [
    "#Now we seperate the dataset as response variable and feature variabes\n",
    "X = df.drop('Recommended IND', axis = 1)\n",
    "Y = df['Recommended IND']"
   ]
  },
  {
   "cell_type": "code",
   "execution_count": 33,
   "metadata": {},
   "outputs": [],
   "source": [
    "#Train and Test splitting of the data \n",
    "X_train, X_test, Y_train, Y_test = train_test_split(X, Y, test_size = 0.2, random_state = 42)"
   ]
  },
  {
   "cell_type": "code",
   "execution_count": 34,
   "metadata": {},
   "outputs": [],
   "source": [
    "#Applying Standard scaling to get  an optimized result\n",
    "sc = StandardScaler()"
   ]
  },
  {
   "cell_type": "code",
   "execution_count": 35,
   "metadata": {},
   "outputs": [],
   "source": [
    "X_train = sc.fit_transform(X_train)\n",
    "X_test = sc.fit_transform(X_test)\n",
    "#Our training and testing data is ready now to perform machine learning algorithm"
   ]
  },
  {
   "cell_type": "markdown",
   "metadata": {},
   "source": [
    "#### Random Forest Classifier\n"
   ]
  },
  {
   "cell_type": "code",
   "execution_count": 36,
   "metadata": {},
   "outputs": [],
   "source": [
    "rfc = RandomForestClassifier(n_estimators=200)\n",
    "rfc.fit(X_train, Y_train)\n",
    "pred_rfc = rfc.predict(X_test)"
   ]
  },
  {
   "cell_type": "code",
   "execution_count": 37,
   "metadata": {},
   "outputs": [
    {
     "name": "stdout",
     "output_type": "stream",
     "text": [
      "              precision    recall  f1-score   support\n",
      "\n",
      "           0       0.78      0.79      0.79       851\n",
      "           1       0.95      0.95      0.95      3847\n",
      "\n",
      "    accuracy                           0.92      4698\n",
      "   macro avg       0.87      0.87      0.87      4698\n",
      "weighted avg       0.92      0.92      0.92      4698\n",
      "\n"
     ]
    }
   ],
   "source": [
    "#This is how our model is performed now\n",
    "print(classification_report(Y_test, pred_rfc))\n"
   ]
  },
  {
   "cell_type": "markdown",
   "metadata": {},
   "source": [
    "#### Random forest gives the accuracy of 92%\n"
   ]
  },
  {
   "cell_type": "code",
   "execution_count": 38,
   "metadata": {},
   "outputs": [
    {
     "name": "stdout",
     "output_type": "stream",
     "text": [
      "[[ 674  177]\n",
      " [ 190 3657]]\n"
     ]
    }
   ],
   "source": [
    "#Confusion matrix for random forest classification\n",
    "print(confusion_matrix(Y_test, pred_rfc))"
   ]
  },
  {
   "cell_type": "markdown",
   "metadata": {},
   "source": [
    "#### Stochastic Gradient Decent Classifier"
   ]
  },
  {
   "cell_type": "code",
   "execution_count": 39,
   "metadata": {},
   "outputs": [],
   "source": [
    "sgd = SGDClassifier(penalty=None)\n",
    "sgd.fit(X_train, Y_train)\n",
    "predict_sgd = sgd.predict(X_test)"
   ]
  },
  {
   "cell_type": "code",
   "execution_count": 40,
   "metadata": {},
   "outputs": [
    {
     "name": "stdout",
     "output_type": "stream",
     "text": [
      "              precision    recall  f1-score   support\n",
      "\n",
      "           0       0.77      0.86      0.81       851\n",
      "           1       0.97      0.94      0.96      3847\n",
      "\n",
      "    accuracy                           0.93      4698\n",
      "   macro avg       0.87      0.90      0.89      4698\n",
      "weighted avg       0.93      0.93      0.93      4698\n",
      "\n"
     ]
    }
   ],
   "source": [
    "print(classification_report(Y_test, predict_sgd))"
   ]
  },
  {
   "cell_type": "markdown",
   "metadata": {},
   "source": [
    "#### Support Vector Classifier"
   ]
  },
  {
   "cell_type": "code",
   "execution_count": 41,
   "metadata": {},
   "outputs": [],
   "source": [
    "svc = SVC()\n",
    "svc.fit(X_train, Y_train)\n",
    "predict_svc = svc.predict(X_test)"
   ]
  },
  {
   "cell_type": "code",
   "execution_count": 42,
   "metadata": {},
   "outputs": [
    {
     "name": "stdout",
     "output_type": "stream",
     "text": [
      "              precision    recall  f1-score   support\n",
      "\n",
      "           0       0.74      0.95      0.83       851\n",
      "           1       0.99      0.93      0.96      3847\n",
      "\n",
      "    accuracy                           0.93      4698\n",
      "   macro avg       0.87      0.94      0.89      4698\n",
      "weighted avg       0.94      0.93      0.93      4698\n",
      "\n"
     ]
    }
   ],
   "source": [
    "print(classification_report(Y_test, predict_svc))"
   ]
  },
  {
   "cell_type": "code",
   "execution_count": 43,
   "metadata": {},
   "outputs": [
    {
     "data": {
      "text/plain": [
       "0.9295826657946595"
      ]
     },
     "execution_count": 43,
     "metadata": {},
     "output_type": "execute_result"
    }
   ],
   "source": [
    "#Now lets try to do some evaluation for random forest model using cross validation.\n",
    "rfc_eval = cross_val_score(estimator = rfc, X = X_train, Y = Y_train, cv = 10)\n",
    "rfc_eval.mean()"
   ]
  },
  {
   "cell_type": "markdown",
   "metadata": {},
   "source": [
    "##### Random forest accuracy increases from 92% to 93 % (Little increment) using cross validation score\n"
   ]
  },
  {
   "cell_type": "code",
   "execution_count": null,
   "metadata": {},
   "outputs": [],
   "source": []
  }
 ],
 "metadata": {
  "kernelspec": {
   "display_name": "Python 3",
   "language": "python",
   "name": "python3"
  },
  "language_info": {
   "codemirror_mode": {
    "name": "ipython",
    "version": 3
   },
   "file_extension": ".py",
   "mimetype": "text/x-python",
   "name": "python",
   "nbconvert_exporter": "python",
   "pygments_lexer": "ipython3",
   "version": "3.7.3"
  }
 },
 "nbformat": 4,
 "nbformat_minor": 2
}
